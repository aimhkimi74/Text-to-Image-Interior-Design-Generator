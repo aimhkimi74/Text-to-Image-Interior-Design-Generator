{
  "nbformat": 4,
  "nbformat_minor": 0,
  "metadata": {
    "colab": {
      "provenance": [],
      "authorship_tag": "ABX9TyNCIhfJJM/EhJKFraYh03Rg",
      "include_colab_link": true
    },
    "kernelspec": {
      "name": "python3",
      "display_name": "Python 3"
    },
    "language_info": {
      "name": "python"
    }
  },
  "cells": [
    {
      "cell_type": "markdown",
      "metadata": {
        "id": "view-in-github",
        "colab_type": "text"
      },
      "source": [
        "<a href=\"https://colab.research.google.com/github/aimhkimi74/Text-to-Image-Interior-Design-Generator/blob/main/livingroom_backend_colab.ipynb\" target=\"_parent\"><img src=\"https://colab.research.google.com/assets/colab-badge.svg\" alt=\"Open In Colab\"/></a>"
      ]
    },
    {
      "cell_type": "code",
      "execution_count": null,
      "metadata": {
        "id": "iSanR1POBg4C"
      },
      "outputs": [],
      "source": [
        "# ===============================\n",
        "# STEP 1: Install Required Libraries\n",
        "# ===============================\n",
        "!pip install torch accelerate diffusers flask flask-cors pyngrok pillow --quiet\n",
        "\n",
        "# ===============================\n",
        "# STEP 2: Imports\n",
        "# ===============================\n",
        "import torch, io, base64\n",
        "from flask import Flask, request, jsonify\n",
        "from flask_cors import CORS\n",
        "from diffusers import DiffusionPipeline\n",
        "from PIL import Image\n",
        "from pyngrok import ngrok\n",
        "\n",
        "# ===============================\n",
        "# STEP 3: Load Model + LoRA\n",
        "# ===============================\n",
        "device = torch.device(\"cuda\" if torch.cuda.is_available() else \"cpu\")\n",
        "\n",
        "pipe = DiffusionPipeline.from_pretrained(\n",
        "    \"runwayml/stable-diffusion-v1-5\",\n",
        "    torch_dtype=torch.float16 if torch.cuda.is_available() else torch.float32\n",
        ").to(device)\n",
        "\n",
        "# Load your LoRA\n",
        "pipe.load_lora_weights(\"aimhkimi74/sd15-lora-LivingRoom\")\n",
        "pipe.enable_attention_slicing()\n",
        "\n",
        "# ===============================\n",
        "# STEP 4: Setup Flask\n",
        "# ===============================\n",
        "app = Flask(__name__)\n",
        "CORS(app)\n",
        "\n",
        "@app.route(\"/health\", methods=[\"GET\"])\n",
        "def health():\n",
        "    return jsonify({\"status\": \"ok\", \"device\": str(device)}), 200\n",
        "\n",
        "@app.route(\"/generate\", methods=[\"POST\"])\n",
        "def generate():\n",
        "    try:\n",
        "        data = request.get_json(force=True)\n",
        "        prompt = (data.get(\"prompt\") or \"\").strip()\n",
        "        if not prompt:\n",
        "            return jsonify({\"error\": \"No prompt provided\"}), 400\n",
        "\n",
        "        with torch.inference_mode():\n",
        "            result = pipe(\n",
        "                prompt,\n",
        "                num_inference_steps=40,\n",
        "                guidance_scale=7.5,\n",
        "                height=512,\n",
        "                width=512\n",
        "            )\n",
        "            image = result.images[0]\n",
        "\n",
        "        buf = io.BytesIO()\n",
        "        image.save(buf, format=\"JPEG\", quality=95)\n",
        "        img_b64 = base64.b64encode(buf.getvalue()).decode(\"utf-8\")\n",
        "\n",
        "        return jsonify({\"image\": img_b64}), 200\n",
        "    except Exception as e:\n",
        "        return jsonify({\"error\": str(e)}), 500\n",
        "\n",
        "# ===============================\n",
        "# STEP 5: Expose with ngrok + Run\n",
        "# ===============================\n",
        "ngrok.set_auth_token(\"YOUR_NGROK_TOKEN\")  # 🔑 replace with your token\n",
        "public_url = ngrok.connect(5000, bind_tls=True)\n",
        "print(f\"🌐 Public URL: {public_url}\")\n",
        "\n",
        "app.run(host=\"0.0.0.0\", port=5000)\n"
      ]
    }
  ]
}